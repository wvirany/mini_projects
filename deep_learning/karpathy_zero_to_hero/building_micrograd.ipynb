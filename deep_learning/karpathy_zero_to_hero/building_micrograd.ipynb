{
  "nbformat": 4,
  "nbformat_minor": 0,
  "metadata": {
    "colab": {
      "provenance": [],
      "authorship_tag": "ABX9TyMwe4PIY5FbEqtEVVYlOkRU",
      "include_colab_link": true
    },
    "kernelspec": {
      "name": "python3",
      "display_name": "Python 3"
    },
    "language_info": {
      "name": "python"
    }
  },
  "cells": [
    {
      "cell_type": "markdown",
      "metadata": {
        "id": "view-in-github",
        "colab_type": "text"
      },
      "source": [
        "<a href=\"https://colab.research.google.com/github/wvirany/mini_projects/blob/main/deep_learning/karpathy_zero_to_hero/building_micrograd.ipynb\" target=\"_parent\"><img src=\"https://colab.research.google.com/assets/colab-badge.svg\" alt=\"Open In Colab\"/></a>"
      ]
    },
    {
      "cell_type": "code",
      "execution_count": 51,
      "metadata": {
        "id": "SqHXuBhLWM9f"
      },
      "outputs": [],
      "source": [
        "import math\n",
        "import random\n",
        "import numpy as np\n",
        "import matplotlib.pyplot as plt"
      ]
    },
    {
      "cell_type": "markdown",
      "source": [
        "## Micrograd"
      ],
      "metadata": {
        "id": "qmZaDb7Yy_Kf"
      }
    },
    {
      "cell_type": "code",
      "source": [
        "class Value:\n",
        "\n",
        "  def __init__(self, data, _children=(), _op='', label=''):\n",
        "    self.data = data\n",
        "    self.grad = 0.0\n",
        "    self._backward = lambda: None\n",
        "    self._prev = set(_children)\n",
        "    self._op = _op\n",
        "    self.label = label\n",
        "\n",
        "  def __repr__(self):\n",
        "    return f\"Value(data={self.data})\"\n",
        "\n",
        "\n",
        "  def __add__(self, other):  # Calling a + b returns a.__add__(b)\n",
        "    other = other if isinstance(other, Value) else Value(other)\n",
        "    out = Value(self.data + other.data, (self, other), '+')\n",
        "\n",
        "    def _backward():\n",
        "      self.grad += 1.0 * out.grad\n",
        "      other.grad += 1.0 * out.grad\n",
        "    out._backward = _backward\n",
        "\n",
        "    return out\n",
        "\n",
        "\n",
        "  def __radd__(self, other): # other + self\n",
        "    return self + other\n",
        "\n",
        "  def __sub__(self, other):\n",
        "    return self + (-other)\n",
        "\n",
        "\n",
        "  def __neg__(self):\n",
        "    return self * -1\n",
        "\n",
        "\n",
        "  def __mul__(self, other):\n",
        "    other = other if isinstance(other, Value) else Value(other)\n",
        "    out = Value(self.data * other.data, (self, other), '*')\n",
        "\n",
        "    def _backward():\n",
        "      self.grad += other.data * out.grad\n",
        "      other.grad += self.data * out.grad\n",
        "    out._backward = _backward\n",
        "\n",
        "    return out\n",
        "\n",
        "\n",
        "  def __pow__(self, other):\n",
        "    assert isinstance(other, (int, float)), \"only supporting int/float powers for now\"\n",
        "    out = Value(self.data**other, (self,), f'**{other}')\n",
        "\n",
        "    def _backward():\n",
        "      self.grad += other * self.data**(other - 1) * out.grad\n",
        "    out._backward = _backward\n",
        "\n",
        "    return out\n",
        "\n",
        "\n",
        "  def __rmul__(self, other): # other * self\n",
        "    return self * other\n",
        "\n",
        "\n",
        "  def __truediv__(self, other): # self / other\n",
        "    return self * other**-1\n",
        "\n",
        "\n",
        "  def tanh(self):\n",
        "    x = self.data\n",
        "    t = (math.exp(2*x) - 1) / (math.exp(2*x) + 1)\n",
        "    out = Value(t, (self, ), 'tanh')\n",
        "\n",
        "    def _backward():\n",
        "      self.grad += (1 - t**2) * out.grad\n",
        "    out._backward = _backward\n",
        "\n",
        "    return out\n",
        "\n",
        "\n",
        "  def exp(self):\n",
        "    x = self.data\n",
        "    out = Value(math.exp(x), (self, ), 'exp')\n",
        "\n",
        "    def _backward():\n",
        "      self.grad += out.data * out.grad\n",
        "    out._backward = _backward\n",
        "\n",
        "    return out\n",
        "\n",
        "\n",
        "  def backward(self):\n",
        "\n",
        "    topo = []\n",
        "    visited = set()\n",
        "\n",
        "    def build_topo(v):\n",
        "      if v not in visited:\n",
        "        visited.add(v)\n",
        "        for child in v._prev:\n",
        "          build_topo(child)\n",
        "        topo.append(v)\n",
        "\n",
        "    build_topo(self)\n",
        "    topo\n",
        "\n",
        "    self.grad = 1.0\n",
        "    for node in reversed(topo):\n",
        "      node._backward()"
      ],
      "metadata": {
        "id": "Zf5FmUdyb__G"
      },
      "execution_count": 43,
      "outputs": []
    },
    {
      "cell_type": "code",
      "source": [
        "from graphviz import Digraph\n",
        "\n",
        "def trace(root):\n",
        "  # builds a set of all nodes and edges in a graph\n",
        "  nodes, edges = set(), set()\n",
        "  def build(v):\n",
        "    if v not in nodes:\n",
        "      nodes.add(v)\n",
        "      for child in v._prev:\n",
        "        edges.add((child, v))\n",
        "        build(child)\n",
        "  build(root)\n",
        "  return nodes, edges\n",
        "\n",
        "def draw_dot(root):\n",
        "  dot = Digraph(format='svg', graph_attr={'rankdir': 'LR'}) # LR = left to right\n",
        "\n",
        "  nodes, edges = trace(root)\n",
        "  for n in nodes:\n",
        "    uid = str(id(n))\n",
        "    # for any value in the graph, create a rectangular ('record') node for it\n",
        "    dot.node(name=uid, label=\"{ %s | data %.4f | grad %.4f}\" % (n.label, n.data, n.grad, ), shape='record')\n",
        "    if n._op:\n",
        "      # if this value is a result of some operation, create an op node for it\n",
        "      dot.node(name=uid + n._op, label=n._op)\n",
        "      # and connect this node to it\n",
        "      dot.edge(uid + n._op, uid)\n",
        "\n",
        "  for n1, n2 in edges:\n",
        "    # connect n1 to the op node of n2\n",
        "    dot.edge(str(id(n1)), str(id(n2)) + n2._op)\n",
        "\n",
        "  return dot"
      ],
      "metadata": {
        "id": "E5YcTV6KfCJ_"
      },
      "execution_count": 44,
      "outputs": []
    },
    {
      "cell_type": "code",
      "source": [
        "# inputs x1, x2\n",
        "x1 = Value(2.0, label='x1')\n",
        "x2 = Value(0.0, label='x2')\n",
        "\n",
        "# weights w1, w2\n",
        "w1 = Value(-3.0, label='w1')\n",
        "w2 = Value(1.0, label='w2')\n",
        "\n",
        "# bias of the neuron\n",
        "b = Value(6.8813735870195432, label='b')\n",
        "\n",
        "# x1w2 + x2w2 + b\n",
        "x1w1 = x1 * w1; x1w1.label='x1 * w1'\n",
        "x2w2 = x2 * w2; x2w2.label='x2 * w2'\n",
        "x1w1x2w2 = x1w1 + x2w2; x1w1x2w2.label = 'x1*w1 + x2*w2'\n",
        "n = x1w1x2w2 + b; n.label = 'n'  # Weighted sum before activation function\n",
        "\n",
        "o = n.tanh(); o.label = 'o'\n",
        "\n",
        "o.backward()"
      ],
      "metadata": {
        "collapsed": true,
        "id": "VATNUEklqskn"
      },
      "execution_count": 45,
      "outputs": []
    },
    {
      "cell_type": "code",
      "source": [
        "draw_dot(o)"
      ],
      "metadata": {
        "colab": {
          "base_uri": "https://localhost:8080/",
          "height": 321
        },
        "id": "VFKosNdi96VV",
        "outputId": "70c6ea44-cfe7-4a20-ac10-1766174a16ad"
      },
      "execution_count": 46,
      "outputs": [
        {
          "output_type": "execute_result",
          "data": {
            "image/svg+xml": "<?xml version=\"1.0\" encoding=\"UTF-8\" standalone=\"no\"?>\n<!DOCTYPE svg PUBLIC \"-//W3C//DTD SVG 1.1//EN\"\n \"http://www.w3.org/Graphics/SVG/1.1/DTD/svg11.dtd\">\n<!-- Generated by graphviz version 2.43.0 (0)\n -->\n<!-- Title: %3 Pages: 1 -->\n<svg width=\"1583pt\" height=\"210pt\"\n viewBox=\"0.00 0.00 1583.00 210.00\" xmlns=\"http://www.w3.org/2000/svg\" xmlns:xlink=\"http://www.w3.org/1999/xlink\">\n<g id=\"graph0\" class=\"graph\" transform=\"scale(1 1) rotate(0) translate(4 206)\">\n<title>%3</title>\n<polygon fill=\"white\" stroke=\"transparent\" points=\"-4,4 -4,-206 1579,-206 1579,4 -4,4\"/>\n<!-- 131924700588608 -->\n<g id=\"node1\" class=\"node\">\n<title>131924700588608</title>\n<polygon fill=\"none\" stroke=\"black\" points=\"326,-55.5 326,-91.5 554,-91.5 554,-55.5 326,-55.5\"/>\n<text text-anchor=\"middle\" x=\"356.5\" y=\"-69.8\" font-family=\"Times,serif\" font-size=\"14.00\">x1 * w1</text>\n<polyline fill=\"none\" stroke=\"black\" points=\"387,-55.5 387,-91.5 \"/>\n<text text-anchor=\"middle\" x=\"429.5\" y=\"-69.8\" font-family=\"Times,serif\" font-size=\"14.00\">data &#45;6.0000</text>\n<polyline fill=\"none\" stroke=\"black\" points=\"472,-55.5 472,-91.5 \"/>\n<text text-anchor=\"middle\" x=\"513\" y=\"-69.8\" font-family=\"Times,serif\" font-size=\"14.00\">grad 0.5000</text>\n</g>\n<!-- 131924700594032+ -->\n<g id=\"node11\" class=\"node\">\n<title>131924700594032+</title>\n<ellipse fill=\"none\" stroke=\"black\" cx=\"617\" cy=\"-100.5\" rx=\"27\" ry=\"18\"/>\n<text text-anchor=\"middle\" x=\"617\" y=\"-96.8\" font-family=\"Times,serif\" font-size=\"14.00\">+</text>\n</g>\n<!-- 131924700588608&#45;&gt;131924700594032+ -->\n<g id=\"edge6\" class=\"edge\">\n<title>131924700588608&#45;&gt;131924700594032+</title>\n<path fill=\"none\" stroke=\"black\" d=\"M554.3,-90.98C563.62,-92.42 572.51,-93.79 580.5,-95.02\"/>\n<polygon fill=\"black\" stroke=\"black\" points=\"580.02,-98.49 590.43,-96.56 581.08,-91.57 580.02,-98.49\"/>\n</g>\n<!-- 131924700588608* -->\n<g id=\"node2\" class=\"node\">\n<title>131924700588608*</title>\n<ellipse fill=\"none\" stroke=\"black\" cx=\"263\" cy=\"-73.5\" rx=\"27\" ry=\"18\"/>\n<text text-anchor=\"middle\" x=\"263\" y=\"-69.8\" font-family=\"Times,serif\" font-size=\"14.00\">*</text>\n</g>\n<!-- 131924700588608*&#45;&gt;131924700588608 -->\n<g id=\"edge1\" class=\"edge\">\n<title>131924700588608*&#45;&gt;131924700588608</title>\n<path fill=\"none\" stroke=\"black\" d=\"M290.2,-73.5C297.62,-73.5 306.23,-73.5 315.48,-73.5\"/>\n<polygon fill=\"black\" stroke=\"black\" points=\"315.76,-77 325.76,-73.5 315.76,-70 315.76,-77\"/>\n</g>\n<!-- 131924700588704 -->\n<g id=\"node3\" class=\"node\">\n<title>131924700588704</title>\n<polygon fill=\"none\" stroke=\"black\" points=\"1390,-109.5 1390,-145.5 1575,-145.5 1575,-109.5 1390,-109.5\"/>\n<text text-anchor=\"middle\" x=\"1401.5\" y=\"-123.8\" font-family=\"Times,serif\" font-size=\"14.00\">o</text>\n<polyline fill=\"none\" stroke=\"black\" points=\"1413,-109.5 1413,-145.5 \"/>\n<text text-anchor=\"middle\" x=\"1453\" y=\"-123.8\" font-family=\"Times,serif\" font-size=\"14.00\">data 0.7071</text>\n<polyline fill=\"none\" stroke=\"black\" points=\"1493,-109.5 1493,-145.5 \"/>\n<text text-anchor=\"middle\" x=\"1534\" y=\"-123.8\" font-family=\"Times,serif\" font-size=\"14.00\">grad 1.0000</text>\n</g>\n<!-- 131924700588704tanh -->\n<g id=\"node4\" class=\"node\">\n<title>131924700588704tanh</title>\n<ellipse fill=\"none\" stroke=\"black\" cx=\"1327\" cy=\"-127.5\" rx=\"27\" ry=\"18\"/>\n<text text-anchor=\"middle\" x=\"1327\" y=\"-123.8\" font-family=\"Times,serif\" font-size=\"14.00\">tanh</text>\n</g>\n<!-- 131924700588704tanh&#45;&gt;131924700588704 -->\n<g id=\"edge2\" class=\"edge\">\n<title>131924700588704tanh&#45;&gt;131924700588704</title>\n<path fill=\"none\" stroke=\"black\" d=\"M1354.04,-127.5C1361.58,-127.5 1370.3,-127.5 1379.57,-127.5\"/>\n<polygon fill=\"black\" stroke=\"black\" points=\"1379.81,-131 1389.81,-127.5 1379.81,-124 1379.81,-131\"/>\n</g>\n<!-- 131924700591392 -->\n<g id=\"node5\" class=\"node\">\n<title>131924700591392</title>\n<polygon fill=\"none\" stroke=\"black\" points=\"1079,-109.5 1079,-145.5 1264,-145.5 1264,-109.5 1079,-109.5\"/>\n<text text-anchor=\"middle\" x=\"1090.5\" y=\"-123.8\" font-family=\"Times,serif\" font-size=\"14.00\">n</text>\n<polyline fill=\"none\" stroke=\"black\" points=\"1102,-109.5 1102,-145.5 \"/>\n<text text-anchor=\"middle\" x=\"1142\" y=\"-123.8\" font-family=\"Times,serif\" font-size=\"14.00\">data 0.8814</text>\n<polyline fill=\"none\" stroke=\"black\" points=\"1182,-109.5 1182,-145.5 \"/>\n<text text-anchor=\"middle\" x=\"1223\" y=\"-123.8\" font-family=\"Times,serif\" font-size=\"14.00\">grad 0.5000</text>\n</g>\n<!-- 131924700591392&#45;&gt;131924700588704tanh -->\n<g id=\"edge14\" class=\"edge\">\n<title>131924700591392&#45;&gt;131924700588704tanh</title>\n<path fill=\"none\" stroke=\"black\" d=\"M1264.01,-127.5C1273.01,-127.5 1281.74,-127.5 1289.66,-127.5\"/>\n<polygon fill=\"black\" stroke=\"black\" points=\"1289.91,-131 1299.91,-127.5 1289.91,-124 1289.91,-131\"/>\n</g>\n<!-- 131924700591392+ -->\n<g id=\"node6\" class=\"node\">\n<title>131924700591392+</title>\n<ellipse fill=\"none\" stroke=\"black\" cx=\"1016\" cy=\"-127.5\" rx=\"27\" ry=\"18\"/>\n<text text-anchor=\"middle\" x=\"1016\" y=\"-123.8\" font-family=\"Times,serif\" font-size=\"14.00\">+</text>\n</g>\n<!-- 131924700591392+&#45;&gt;131924700591392 -->\n<g id=\"edge3\" class=\"edge\">\n<title>131924700591392+&#45;&gt;131924700591392</title>\n<path fill=\"none\" stroke=\"black\" d=\"M1043.04,-127.5C1050.58,-127.5 1059.3,-127.5 1068.57,-127.5\"/>\n<polygon fill=\"black\" stroke=\"black\" points=\"1068.81,-131 1078.81,-127.5 1068.81,-124 1068.81,-131\"/>\n</g>\n<!-- 131924700588848 -->\n<g id=\"node7\" class=\"node\">\n<title>131924700588848</title>\n<polygon fill=\"none\" stroke=\"black\" points=\"724,-137.5 724,-173.5 909,-173.5 909,-137.5 724,-137.5\"/>\n<text text-anchor=\"middle\" x=\"735.5\" y=\"-151.8\" font-family=\"Times,serif\" font-size=\"14.00\">b</text>\n<polyline fill=\"none\" stroke=\"black\" points=\"747,-137.5 747,-173.5 \"/>\n<text text-anchor=\"middle\" x=\"787\" y=\"-151.8\" font-family=\"Times,serif\" font-size=\"14.00\">data 6.8814</text>\n<polyline fill=\"none\" stroke=\"black\" points=\"827,-137.5 827,-173.5 \"/>\n<text text-anchor=\"middle\" x=\"868\" y=\"-151.8\" font-family=\"Times,serif\" font-size=\"14.00\">grad 0.5000</text>\n</g>\n<!-- 131924700588848&#45;&gt;131924700591392+ -->\n<g id=\"edge8\" class=\"edge\">\n<title>131924700588848&#45;&gt;131924700591392+</title>\n<path fill=\"none\" stroke=\"black\" d=\"M909.02,-142.52C934,-138.98 959.59,-135.36 979.37,-132.55\"/>\n<polygon fill=\"black\" stroke=\"black\" points=\"980.03,-135.99 989.43,-131.12 979.04,-129.06 980.03,-135.99\"/>\n</g>\n<!-- 131924700586304 -->\n<g id=\"node8\" class=\"node\">\n<title>131924700586304</title>\n<polygon fill=\"none\" stroke=\"black\" points=\"2,-55.5 2,-91.5 198,-91.5 198,-55.5 2,-55.5\"/>\n<text text-anchor=\"middle\" x=\"17\" y=\"-69.8\" font-family=\"Times,serif\" font-size=\"14.00\">x1</text>\n<polyline fill=\"none\" stroke=\"black\" points=\"32,-55.5 32,-91.5 \"/>\n<text text-anchor=\"middle\" x=\"72\" y=\"-69.8\" font-family=\"Times,serif\" font-size=\"14.00\">data 2.0000</text>\n<polyline fill=\"none\" stroke=\"black\" points=\"112,-55.5 112,-91.5 \"/>\n<text text-anchor=\"middle\" x=\"155\" y=\"-69.8\" font-family=\"Times,serif\" font-size=\"14.00\">grad &#45;1.5000</text>\n</g>\n<!-- 131924700586304&#45;&gt;131924700588608* -->\n<g id=\"edge11\" class=\"edge\">\n<title>131924700586304&#45;&gt;131924700588608*</title>\n<path fill=\"none\" stroke=\"black\" d=\"M198.37,-73.5C208.05,-73.5 217.4,-73.5 225.8,-73.5\"/>\n<polygon fill=\"black\" stroke=\"black\" points=\"225.91,-77 235.91,-73.5 225.91,-70 225.91,-77\"/>\n</g>\n<!-- 131924700586784 -->\n<g id=\"node9\" class=\"node\">\n<title>131924700586784</title>\n<polygon fill=\"none\" stroke=\"black\" points=\"2.5,-165.5 2.5,-201.5 197.5,-201.5 197.5,-165.5 2.5,-165.5\"/>\n<text text-anchor=\"middle\" x=\"19\" y=\"-179.8\" font-family=\"Times,serif\" font-size=\"14.00\">w2</text>\n<polyline fill=\"none\" stroke=\"black\" points=\"35.5,-165.5 35.5,-201.5 \"/>\n<text text-anchor=\"middle\" x=\"75.5\" y=\"-179.8\" font-family=\"Times,serif\" font-size=\"14.00\">data 1.0000</text>\n<polyline fill=\"none\" stroke=\"black\" points=\"115.5,-165.5 115.5,-201.5 \"/>\n<text text-anchor=\"middle\" x=\"156.5\" y=\"-179.8\" font-family=\"Times,serif\" font-size=\"14.00\">grad 0.0000</text>\n</g>\n<!-- 131924700594128* -->\n<g id=\"node15\" class=\"node\">\n<title>131924700594128*</title>\n<ellipse fill=\"none\" stroke=\"black\" cx=\"263\" cy=\"-128.5\" rx=\"27\" ry=\"18\"/>\n<text text-anchor=\"middle\" x=\"263\" y=\"-124.8\" font-family=\"Times,serif\" font-size=\"14.00\">*</text>\n</g>\n<!-- 131924700586784&#45;&gt;131924700594128* -->\n<g id=\"edge7\" class=\"edge\">\n<title>131924700586784&#45;&gt;131924700594128*</title>\n<path fill=\"none\" stroke=\"black\" d=\"M172.53,-165.44C181.84,-162.67 191.2,-159.67 200,-156.5 210.53,-152.71 221.75,-147.9 231.72,-143.33\"/>\n<polygon fill=\"black\" stroke=\"black\" points=\"233.25,-146.48 240.82,-139.07 230.28,-140.14 233.25,-146.48\"/>\n</g>\n<!-- 131924700594032 -->\n<g id=\"node10\" class=\"node\">\n<title>131924700594032</title>\n<polygon fill=\"none\" stroke=\"black\" points=\"680,-82.5 680,-118.5 953,-118.5 953,-82.5 680,-82.5\"/>\n<text text-anchor=\"middle\" x=\"733\" y=\"-96.8\" font-family=\"Times,serif\" font-size=\"14.00\">x1*w1 + x2*w2</text>\n<polyline fill=\"none\" stroke=\"black\" points=\"786,-82.5 786,-118.5 \"/>\n<text text-anchor=\"middle\" x=\"828.5\" y=\"-96.8\" font-family=\"Times,serif\" font-size=\"14.00\">data &#45;6.0000</text>\n<polyline fill=\"none\" stroke=\"black\" points=\"871,-82.5 871,-118.5 \"/>\n<text text-anchor=\"middle\" x=\"912\" y=\"-96.8\" font-family=\"Times,serif\" font-size=\"14.00\">grad 0.5000</text>\n</g>\n<!-- 131924700594032&#45;&gt;131924700591392+ -->\n<g id=\"edge10\" class=\"edge\">\n<title>131924700594032&#45;&gt;131924700591392+</title>\n<path fill=\"none\" stroke=\"black\" d=\"M949.24,-118.51C960.12,-120 970.4,-121.4 979.45,-122.64\"/>\n<polygon fill=\"black\" stroke=\"black\" points=\"979.11,-126.13 989.49,-124.01 980.05,-119.19 979.11,-126.13\"/>\n</g>\n<!-- 131924700594032+&#45;&gt;131924700594032 -->\n<g id=\"edge4\" class=\"edge\">\n<title>131924700594032+&#45;&gt;131924700594032</title>\n<path fill=\"none\" stroke=\"black\" d=\"M644.23,-100.5C651.7,-100.5 660.41,-100.5 669.87,-100.5\"/>\n<polygon fill=\"black\" stroke=\"black\" points=\"669.98,-104 679.98,-100.5 669.98,-97 669.98,-104\"/>\n</g>\n<!-- 131924700586400 -->\n<g id=\"node12\" class=\"node\">\n<title>131924700586400</title>\n<polygon fill=\"none\" stroke=\"black\" points=\"0,-0.5 0,-36.5 200,-36.5 200,-0.5 0,-0.5\"/>\n<text text-anchor=\"middle\" x=\"16.5\" y=\"-14.8\" font-family=\"Times,serif\" font-size=\"14.00\">w1</text>\n<polyline fill=\"none\" stroke=\"black\" points=\"33,-0.5 33,-36.5 \"/>\n<text text-anchor=\"middle\" x=\"75.5\" y=\"-14.8\" font-family=\"Times,serif\" font-size=\"14.00\">data &#45;3.0000</text>\n<polyline fill=\"none\" stroke=\"black\" points=\"118,-0.5 118,-36.5 \"/>\n<text text-anchor=\"middle\" x=\"159\" y=\"-14.8\" font-family=\"Times,serif\" font-size=\"14.00\">grad 1.0000</text>\n</g>\n<!-- 131924700586400&#45;&gt;131924700588608* -->\n<g id=\"edge12\" class=\"edge\">\n<title>131924700586400&#45;&gt;131924700588608*</title>\n<path fill=\"none\" stroke=\"black\" d=\"M169.28,-36.5C179.65,-39.61 190.16,-42.98 200,-46.5 210.28,-50.17 221.28,-54.74 231.11,-59.07\"/>\n<polygon fill=\"black\" stroke=\"black\" points=\"229.93,-62.37 240.48,-63.27 232.79,-55.99 229.93,-62.37\"/>\n</g>\n<!-- 131924700582320 -->\n<g id=\"node13\" class=\"node\">\n<title>131924700582320</title>\n<polygon fill=\"none\" stroke=\"black\" points=\"4,-110.5 4,-146.5 196,-146.5 196,-110.5 4,-110.5\"/>\n<text text-anchor=\"middle\" x=\"19\" y=\"-124.8\" font-family=\"Times,serif\" font-size=\"14.00\">x2</text>\n<polyline fill=\"none\" stroke=\"black\" points=\"34,-110.5 34,-146.5 \"/>\n<text text-anchor=\"middle\" x=\"74\" y=\"-124.8\" font-family=\"Times,serif\" font-size=\"14.00\">data 0.0000</text>\n<polyline fill=\"none\" stroke=\"black\" points=\"114,-110.5 114,-146.5 \"/>\n<text text-anchor=\"middle\" x=\"155\" y=\"-124.8\" font-family=\"Times,serif\" font-size=\"14.00\">grad 0.5000</text>\n</g>\n<!-- 131924700582320&#45;&gt;131924700594128* -->\n<g id=\"edge9\" class=\"edge\">\n<title>131924700582320&#45;&gt;131924700594128*</title>\n<path fill=\"none\" stroke=\"black\" d=\"M196.05,-128.5C206.52,-128.5 216.65,-128.5 225.71,-128.5\"/>\n<polygon fill=\"black\" stroke=\"black\" points=\"225.79,-132 235.79,-128.5 225.79,-125 225.79,-132\"/>\n</g>\n<!-- 131924700594128 -->\n<g id=\"node14\" class=\"node\">\n<title>131924700594128</title>\n<polygon fill=\"none\" stroke=\"black\" points=\"328.5,-110.5 328.5,-146.5 551.5,-146.5 551.5,-110.5 328.5,-110.5\"/>\n<text text-anchor=\"middle\" x=\"359\" y=\"-124.8\" font-family=\"Times,serif\" font-size=\"14.00\">x2 * w2</text>\n<polyline fill=\"none\" stroke=\"black\" points=\"389.5,-110.5 389.5,-146.5 \"/>\n<text text-anchor=\"middle\" x=\"429.5\" y=\"-124.8\" font-family=\"Times,serif\" font-size=\"14.00\">data 0.0000</text>\n<polyline fill=\"none\" stroke=\"black\" points=\"469.5,-110.5 469.5,-146.5 \"/>\n<text text-anchor=\"middle\" x=\"510.5\" y=\"-124.8\" font-family=\"Times,serif\" font-size=\"14.00\">grad 0.5000</text>\n</g>\n<!-- 131924700594128&#45;&gt;131924700594032+ -->\n<g id=\"edge13\" class=\"edge\">\n<title>131924700594128&#45;&gt;131924700594032+</title>\n<path fill=\"none\" stroke=\"black\" d=\"M551.83,-110.77C562.05,-109.13 571.82,-107.57 580.51,-106.18\"/>\n<polygon fill=\"black\" stroke=\"black\" points=\"581.21,-109.61 590.54,-104.57 580.11,-102.7 581.21,-109.61\"/>\n</g>\n<!-- 131924700594128*&#45;&gt;131924700594128 -->\n<g id=\"edge5\" class=\"edge\">\n<title>131924700594128*&#45;&gt;131924700594128</title>\n<path fill=\"none\" stroke=\"black\" d=\"M290.2,-128.5C298.36,-128.5 307.96,-128.5 318.28,-128.5\"/>\n<polygon fill=\"black\" stroke=\"black\" points=\"318.37,-132 328.37,-128.5 318.37,-125 318.37,-132\"/>\n</g>\n</g>\n</svg>\n",
            "text/plain": [
              "<graphviz.graphs.Digraph at 0x77fc1cea5330>"
            ]
          },
          "metadata": {},
          "execution_count": 46
        }
      ]
    },
    {
      "cell_type": "code",
      "source": [
        "# inputs x1, x2\n",
        "x1 = Value(2.0, label='x1')\n",
        "x2 = Value(0.0, label='x2')\n",
        "\n",
        "# weights w1, w2\n",
        "w1 = Value(-3.0, label='w1')\n",
        "w2 = Value(1.0, label='w2')\n",
        "\n",
        "# bias of the neuron\n",
        "b = Value(6.8813735870195432, label='b')\n",
        "\n",
        "# x1w2 + x2w2 + b\n",
        "x1w1 = x1 * w1; x1w1.label='x1 * w1'\n",
        "x2w2 = x2 * w2; x2w2.label='x2 * w2'\n",
        "x1w1x2w2 = x1w1 + x2w2; x1w1x2w2.label = 'x1*w1 + x2*w2'\n",
        "n = x1w1x2w2 + b; n.label = 'n'  # Weighted sum before activation function\n",
        "# ----\n",
        "e = (2*n).exp()\n",
        "o = (e - 1) / (e + 1)\n",
        "# ----\n",
        "o.label = 'o'\n",
        "\n",
        "o.backward()"
      ],
      "metadata": {
        "id": "V7WGgc9r97W4"
      },
      "execution_count": 47,
      "outputs": []
    },
    {
      "cell_type": "code",
      "source": [
        "draw_dot(o)"
      ],
      "metadata": {
        "id": "UCQ6Uzzh-Lsy",
        "outputId": "44e4da42-7ae1-4a05-a13c-699230b3941a",
        "colab": {
          "base_uri": "https://localhost:8080/",
          "height": 356
        }
      },
      "execution_count": 48,
      "outputs": [
        {
          "output_type": "execute_result",
          "data": {
            "image/svg+xml": "<?xml version=\"1.0\" encoding=\"UTF-8\" standalone=\"no\"?>\n<!DOCTYPE svg PUBLIC \"-//W3C//DTD SVG 1.1//EN\"\n \"http://www.w3.org/Graphics/SVG/1.1/DTD/svg11.dtd\">\n<!-- Generated by graphviz version 2.43.0 (0)\n -->\n<!-- Title: %3 Pages: 1 -->\n<svg width=\"2952pt\" height=\"236pt\"\n viewBox=\"0.00 0.00 2952.00 236.00\" xmlns=\"http://www.w3.org/2000/svg\" xmlns:xlink=\"http://www.w3.org/1999/xlink\">\n<g id=\"graph0\" class=\"graph\" transform=\"scale(1 1) rotate(0) translate(4 232)\">\n<title>%3</title>\n<polygon fill=\"white\" stroke=\"transparent\" points=\"-4,4 -4,-232 2948,-232 2948,4 -4,4\"/>\n<!-- 131924700586496 -->\n<g id=\"node1\" class=\"node\">\n<title>131924700586496</title>\n<polygon fill=\"none\" stroke=\"black\" points=\"328.5,-55.5 328.5,-91.5 551.5,-91.5 551.5,-55.5 328.5,-55.5\"/>\n<text text-anchor=\"middle\" x=\"359\" y=\"-69.8\" font-family=\"Times,serif\" font-size=\"14.00\">x2 * w2</text>\n<polyline fill=\"none\" stroke=\"black\" points=\"389.5,-55.5 389.5,-91.5 \"/>\n<text text-anchor=\"middle\" x=\"429.5\" y=\"-69.8\" font-family=\"Times,serif\" font-size=\"14.00\">data 0.0000</text>\n<polyline fill=\"none\" stroke=\"black\" points=\"469.5,-55.5 469.5,-91.5 \"/>\n<text text-anchor=\"middle\" x=\"510.5\" y=\"-69.8\" font-family=\"Times,serif\" font-size=\"14.00\">grad 0.5000</text>\n</g>\n<!-- 131924700593552+ -->\n<g id=\"node23\" class=\"node\">\n<title>131924700593552+</title>\n<ellipse fill=\"none\" stroke=\"black\" cx=\"617\" cy=\"-100.5\" rx=\"27\" ry=\"18\"/>\n<text text-anchor=\"middle\" x=\"617\" y=\"-96.8\" font-family=\"Times,serif\" font-size=\"14.00\">+</text>\n</g>\n<!-- 131924700586496&#45;&gt;131924700593552+ -->\n<g id=\"edge15\" class=\"edge\">\n<title>131924700586496&#45;&gt;131924700593552+</title>\n<path fill=\"none\" stroke=\"black\" d=\"M551.83,-90.6C562.05,-92.18 571.82,-93.68 580.51,-95.02\"/>\n<polygon fill=\"black\" stroke=\"black\" points=\"580.12,-98.51 590.54,-96.57 581.19,-91.59 580.12,-98.51\"/>\n</g>\n<!-- 131924700586496* -->\n<g id=\"node2\" class=\"node\">\n<title>131924700586496*</title>\n<ellipse fill=\"none\" stroke=\"black\" cx=\"263\" cy=\"-73.5\" rx=\"27\" ry=\"18\"/>\n<text text-anchor=\"middle\" x=\"263\" y=\"-69.8\" font-family=\"Times,serif\" font-size=\"14.00\">*</text>\n</g>\n<!-- 131924700586496*&#45;&gt;131924700586496 -->\n<g id=\"edge1\" class=\"edge\">\n<title>131924700586496*&#45;&gt;131924700586496</title>\n<path fill=\"none\" stroke=\"black\" d=\"M290.2,-73.5C298.36,-73.5 307.96,-73.5 318.28,-73.5\"/>\n<polygon fill=\"black\" stroke=\"black\" points=\"318.37,-77 328.37,-73.5 318.37,-70 318.37,-77\"/>\n</g>\n<!-- 131924700581888 -->\n<g id=\"node3\" class=\"node\">\n<title>131924700581888</title>\n<polygon fill=\"none\" stroke=\"black\" points=\"1698,-191.5 1698,-227.5 1885,-227.5 1885,-191.5 1698,-191.5\"/>\n<text text-anchor=\"middle\" x=\"1708\" y=\"-205.8\" font-family=\"Times,serif\" font-size=\"14.00\"> </text>\n<polyline fill=\"none\" stroke=\"black\" points=\"1718,-191.5 1718,-227.5 \"/>\n<text text-anchor=\"middle\" x=\"1760.5\" y=\"-205.8\" font-family=\"Times,serif\" font-size=\"14.00\">data &#45;1.0000</text>\n<polyline fill=\"none\" stroke=\"black\" points=\"1803,-191.5 1803,-227.5 \"/>\n<text text-anchor=\"middle\" x=\"1844\" y=\"-205.8\" font-family=\"Times,serif\" font-size=\"14.00\">grad 0.1464</text>\n</g>\n<!-- 131924700582128+ -->\n<g id=\"node14\" class=\"node\">\n<title>131924700582128+</title>\n<ellipse fill=\"none\" stroke=\"black\" cx=\"1948\" cy=\"-181.5\" rx=\"27\" ry=\"18\"/>\n<text text-anchor=\"middle\" x=\"1948\" y=\"-177.8\" font-family=\"Times,serif\" font-size=\"14.00\">+</text>\n</g>\n<!-- 131924700581888&#45;&gt;131924700582128+ -->\n<g id=\"edge24\" class=\"edge\">\n<title>131924700581888&#45;&gt;131924700582128+</title>\n<path fill=\"none\" stroke=\"black\" d=\"M1885.05,-192.73C1894.54,-191.01 1903.71,-189.35 1911.95,-187.85\"/>\n<polygon fill=\"black\" stroke=\"black\" points=\"1912.64,-191.28 1921.85,-186.06 1911.39,-184.4 1912.64,-191.28\"/>\n</g>\n<!-- 131924700585008 -->\n<g id=\"node4\" class=\"node\">\n<title>131924700585008</title>\n<polygon fill=\"none\" stroke=\"black\" points=\"326,-110.5 326,-146.5 554,-146.5 554,-110.5 326,-110.5\"/>\n<text text-anchor=\"middle\" x=\"356.5\" y=\"-124.8\" font-family=\"Times,serif\" font-size=\"14.00\">x1 * w1</text>\n<polyline fill=\"none\" stroke=\"black\" points=\"387,-110.5 387,-146.5 \"/>\n<text text-anchor=\"middle\" x=\"429.5\" y=\"-124.8\" font-family=\"Times,serif\" font-size=\"14.00\">data &#45;6.0000</text>\n<polyline fill=\"none\" stroke=\"black\" points=\"472,-110.5 472,-146.5 \"/>\n<text text-anchor=\"middle\" x=\"513\" y=\"-124.8\" font-family=\"Times,serif\" font-size=\"14.00\">grad 0.5000</text>\n</g>\n<!-- 131924700585008&#45;&gt;131924700593552+ -->\n<g id=\"edge14\" class=\"edge\">\n<title>131924700585008&#45;&gt;131924700593552+</title>\n<path fill=\"none\" stroke=\"black\" d=\"M553.81,-110.45C563.28,-108.93 572.32,-107.49 580.43,-106.19\"/>\n<polygon fill=\"black\" stroke=\"black\" points=\"581.19,-109.61 590.51,-104.58 580.08,-102.7 581.19,-109.61\"/>\n</g>\n<!-- 131924700585008* -->\n<g id=\"node5\" class=\"node\">\n<title>131924700585008*</title>\n<ellipse fill=\"none\" stroke=\"black\" cx=\"263\" cy=\"-128.5\" rx=\"27\" ry=\"18\"/>\n<text text-anchor=\"middle\" x=\"263\" y=\"-124.8\" font-family=\"Times,serif\" font-size=\"14.00\">*</text>\n</g>\n<!-- 131924700585008*&#45;&gt;131924700585008 -->\n<g id=\"edge2\" class=\"edge\">\n<title>131924700585008*&#45;&gt;131924700585008</title>\n<path fill=\"none\" stroke=\"black\" d=\"M290.2,-128.5C297.62,-128.5 306.23,-128.5 315.48,-128.5\"/>\n<polygon fill=\"black\" stroke=\"black\" points=\"315.76,-132 325.76,-128.5 315.76,-125 315.76,-132\"/>\n</g>\n<!-- 131924700579920 -->\n<g id=\"node6\" class=\"node\">\n<title>131924700579920</title>\n<polygon fill=\"none\" stroke=\"black\" points=\"2011,-108.5 2011,-144.5 2197,-144.5 2197,-108.5 2011,-108.5\"/>\n<text text-anchor=\"middle\" x=\"2021\" y=\"-122.8\" font-family=\"Times,serif\" font-size=\"14.00\"> </text>\n<polyline fill=\"none\" stroke=\"black\" points=\"2031,-108.5 2031,-144.5 \"/>\n<text text-anchor=\"middle\" x=\"2071\" y=\"-122.8\" font-family=\"Times,serif\" font-size=\"14.00\">data 6.8284</text>\n<polyline fill=\"none\" stroke=\"black\" points=\"2111,-108.5 2111,-144.5 \"/>\n<text text-anchor=\"middle\" x=\"2154\" y=\"-122.8\" font-family=\"Times,serif\" font-size=\"14.00\">grad &#45;0.1036</text>\n</g>\n<!-- 131924700589232**&#45;1 -->\n<g id=\"node9\" class=\"node\">\n<title>131924700589232**&#45;1</title>\n<ellipse fill=\"none\" stroke=\"black\" cx=\"2324\" cy=\"-126.5\" rx=\"27\" ry=\"18\"/>\n<text text-anchor=\"middle\" x=\"2324\" y=\"-122.8\" font-family=\"Times,serif\" font-size=\"14.00\">**&#45;1</text>\n</g>\n<!-- 131924700579920&#45;&gt;131924700589232**&#45;1 -->\n<g id=\"edge25\" class=\"edge\">\n<title>131924700579920&#45;&gt;131924700589232**&#45;1</title>\n<path fill=\"none\" stroke=\"black\" d=\"M2197.14,-126.5C2228.72,-126.5 2262.24,-126.5 2286.74,-126.5\"/>\n<polygon fill=\"black\" stroke=\"black\" points=\"2286.98,-130 2296.98,-126.5 2286.98,-123 2286.98,-130\"/>\n</g>\n<!-- 131924700579920+ -->\n<g id=\"node7\" class=\"node\">\n<title>131924700579920+</title>\n<ellipse fill=\"none\" stroke=\"black\" cx=\"1948\" cy=\"-126.5\" rx=\"27\" ry=\"18\"/>\n<text text-anchor=\"middle\" x=\"1948\" y=\"-122.8\" font-family=\"Times,serif\" font-size=\"14.00\">+</text>\n</g>\n<!-- 131924700579920+&#45;&gt;131924700579920 -->\n<g id=\"edge3\" class=\"edge\">\n<title>131924700579920+&#45;&gt;131924700579920</title>\n<path fill=\"none\" stroke=\"black\" d=\"M1975.12,-126.5C1982.62,-126.5 1991.29,-126.5 2000.5,-126.5\"/>\n<polygon fill=\"black\" stroke=\"black\" points=\"2000.69,-130 2010.69,-126.5 2000.69,-123 2000.69,-130\"/>\n</g>\n<!-- 131924700589232 -->\n<g id=\"node8\" class=\"node\">\n<title>131924700589232</title>\n<polygon fill=\"none\" stroke=\"black\" points=\"2451,-112.5 2451,-148.5 2633,-148.5 2633,-112.5 2451,-112.5\"/>\n<text text-anchor=\"middle\" x=\"2461\" y=\"-126.8\" font-family=\"Times,serif\" font-size=\"14.00\"> </text>\n<polyline fill=\"none\" stroke=\"black\" points=\"2471,-112.5 2471,-148.5 \"/>\n<text text-anchor=\"middle\" x=\"2511\" y=\"-126.8\" font-family=\"Times,serif\" font-size=\"14.00\">data 0.1464</text>\n<polyline fill=\"none\" stroke=\"black\" points=\"2551,-112.5 2551,-148.5 \"/>\n<text text-anchor=\"middle\" x=\"2592\" y=\"-126.8\" font-family=\"Times,serif\" font-size=\"14.00\">grad 4.8284</text>\n</g>\n<!-- 131924700588368* -->\n<g id=\"node18\" class=\"node\">\n<title>131924700588368*</title>\n<ellipse fill=\"none\" stroke=\"black\" cx=\"2696\" cy=\"-153.5\" rx=\"27\" ry=\"18\"/>\n<text text-anchor=\"middle\" x=\"2696\" y=\"-149.8\" font-family=\"Times,serif\" font-size=\"14.00\">*</text>\n</g>\n<!-- 131924700589232&#45;&gt;131924700588368* -->\n<g id=\"edge12\" class=\"edge\">\n<title>131924700589232&#45;&gt;131924700588368*</title>\n<path fill=\"none\" stroke=\"black\" d=\"M2633.18,-144.15C2642.42,-145.54 2651.38,-146.9 2659.47,-148.12\"/>\n<polygon fill=\"black\" stroke=\"black\" points=\"2659.15,-151.61 2669.56,-149.65 2660.19,-144.69 2659.15,-151.61\"/>\n</g>\n<!-- 131924700589232**&#45;1&#45;&gt;131924700589232 -->\n<g id=\"edge4\" class=\"edge\">\n<title>131924700589232**&#45;1&#45;&gt;131924700589232</title>\n<path fill=\"none\" stroke=\"black\" d=\"M2351.05,-126.98C2373.53,-127.4 2407.48,-128.03 2440.5,-128.64\"/>\n<polygon fill=\"black\" stroke=\"black\" points=\"2440.64,-132.14 2450.7,-128.83 2440.77,-125.14 2440.64,-132.14\"/>\n</g>\n<!-- 131924700582080 -->\n<g id=\"node10\" class=\"node\">\n<title>131924700582080</title>\n<polygon fill=\"none\" stroke=\"black\" points=\"1700.5,-136.5 1700.5,-172.5 1882.5,-172.5 1882.5,-136.5 1700.5,-136.5\"/>\n<text text-anchor=\"middle\" x=\"1710.5\" y=\"-150.8\" font-family=\"Times,serif\" font-size=\"14.00\"> </text>\n<polyline fill=\"none\" stroke=\"black\" points=\"1720.5,-136.5 1720.5,-172.5 \"/>\n<text text-anchor=\"middle\" x=\"1760.5\" y=\"-150.8\" font-family=\"Times,serif\" font-size=\"14.00\">data 5.8284</text>\n<polyline fill=\"none\" stroke=\"black\" points=\"1800.5,-136.5 1800.5,-172.5 \"/>\n<text text-anchor=\"middle\" x=\"1841.5\" y=\"-150.8\" font-family=\"Times,serif\" font-size=\"14.00\">grad 0.0429</text>\n</g>\n<!-- 131924700582080&#45;&gt;131924700579920+ -->\n<g id=\"edge21\" class=\"edge\">\n<title>131924700582080&#45;&gt;131924700579920+</title>\n<path fill=\"none\" stroke=\"black\" d=\"M1882.82,-138.13C1893.07,-136.27 1903.01,-134.47 1911.88,-132.87\"/>\n<polygon fill=\"black\" stroke=\"black\" points=\"1912.54,-136.3 1921.75,-131.08 1911.29,-129.42 1912.54,-136.3\"/>\n</g>\n<!-- 131924700582080&#45;&gt;131924700582128+ -->\n<g id=\"edge26\" class=\"edge\">\n<title>131924700582080&#45;&gt;131924700582128+</title>\n<path fill=\"none\" stroke=\"black\" d=\"M1882.82,-170.28C1893.07,-172.08 1903.01,-173.81 1911.88,-175.36\"/>\n<polygon fill=\"black\" stroke=\"black\" points=\"1911.3,-178.81 1921.75,-177.09 1912.5,-171.92 1911.3,-178.81\"/>\n</g>\n<!-- 131924700582080exp -->\n<g id=\"node11\" class=\"node\">\n<title>131924700582080exp</title>\n<ellipse fill=\"none\" stroke=\"black\" cx=\"1635\" cy=\"-154.5\" rx=\"27\" ry=\"18\"/>\n<text text-anchor=\"middle\" x=\"1635\" y=\"-150.8\" font-family=\"Times,serif\" font-size=\"14.00\">exp</text>\n</g>\n<!-- 131924700582080exp&#45;&gt;131924700582080 -->\n<g id=\"edge5\" class=\"edge\">\n<title>131924700582080exp&#45;&gt;131924700582080</title>\n<path fill=\"none\" stroke=\"black\" d=\"M1662.21,-154.5C1670.34,-154.5 1679.85,-154.5 1689.94,-154.5\"/>\n<polygon fill=\"black\" stroke=\"black\" points=\"1690.19,-158 1700.19,-154.5 1690.19,-151 1690.19,-158\"/>\n</g>\n<!-- 131924700584144 -->\n<g id=\"node12\" class=\"node\">\n<title>131924700584144</title>\n<polygon fill=\"none\" stroke=\"black\" points=\"4,-55.5 4,-91.5 196,-91.5 196,-55.5 4,-55.5\"/>\n<text text-anchor=\"middle\" x=\"19\" y=\"-69.8\" font-family=\"Times,serif\" font-size=\"14.00\">x2</text>\n<polyline fill=\"none\" stroke=\"black\" points=\"34,-55.5 34,-91.5 \"/>\n<text text-anchor=\"middle\" x=\"74\" y=\"-69.8\" font-family=\"Times,serif\" font-size=\"14.00\">data 0.0000</text>\n<polyline fill=\"none\" stroke=\"black\" points=\"114,-55.5 114,-91.5 \"/>\n<text text-anchor=\"middle\" x=\"155\" y=\"-69.8\" font-family=\"Times,serif\" font-size=\"14.00\">grad 0.5000</text>\n</g>\n<!-- 131924700584144&#45;&gt;131924700586496* -->\n<g id=\"edge18\" class=\"edge\">\n<title>131924700584144&#45;&gt;131924700586496*</title>\n<path fill=\"none\" stroke=\"black\" d=\"M196.05,-73.5C206.52,-73.5 216.65,-73.5 225.71,-73.5\"/>\n<polygon fill=\"black\" stroke=\"black\" points=\"225.79,-77 235.79,-73.5 225.79,-70 225.79,-77\"/>\n</g>\n<!-- 131924700582128 -->\n<g id=\"node13\" class=\"node\">\n<title>131924700582128</title>\n<polygon fill=\"none\" stroke=\"black\" points=\"2233,-163.5 2233,-199.5 2415,-199.5 2415,-163.5 2233,-163.5\"/>\n<text text-anchor=\"middle\" x=\"2243\" y=\"-177.8\" font-family=\"Times,serif\" font-size=\"14.00\"> </text>\n<polyline fill=\"none\" stroke=\"black\" points=\"2253,-163.5 2253,-199.5 \"/>\n<text text-anchor=\"middle\" x=\"2293\" y=\"-177.8\" font-family=\"Times,serif\" font-size=\"14.00\">data 4.8284</text>\n<polyline fill=\"none\" stroke=\"black\" points=\"2333,-163.5 2333,-199.5 \"/>\n<text text-anchor=\"middle\" x=\"2374\" y=\"-177.8\" font-family=\"Times,serif\" font-size=\"14.00\">grad 0.1464</text>\n</g>\n<!-- 131924700582128&#45;&gt;131924700588368* -->\n<g id=\"edge11\" class=\"edge\">\n<title>131924700582128&#45;&gt;131924700588368*</title>\n<path fill=\"none\" stroke=\"black\" d=\"M2415.31,-174.9C2476.7,-170.37 2559.76,-164.19 2633,-158.5 2641.42,-157.85 2650.48,-157.13 2659.01,-156.44\"/>\n<polygon fill=\"black\" stroke=\"black\" points=\"2659.37,-159.92 2669.06,-155.63 2658.81,-152.94 2659.37,-159.92\"/>\n</g>\n<!-- 131924700582128+&#45;&gt;131924700582128 -->\n<g id=\"edge6\" class=\"edge\">\n<title>131924700582128+&#45;&gt;131924700582128</title>\n<path fill=\"none\" stroke=\"black\" d=\"M1975,-181.5C2025.46,-181.5 2139.06,-181.5 2222.81,-181.5\"/>\n<polygon fill=\"black\" stroke=\"black\" points=\"2222.87,-185 2232.87,-181.5 2222.87,-178 2222.87,-185\"/>\n</g>\n<!-- 131924700581648 -->\n<g id=\"node15\" class=\"node\">\n<title>131924700581648</title>\n<polygon fill=\"none\" stroke=\"black\" points=\"1698.5,-81.5 1698.5,-117.5 1884.5,-117.5 1884.5,-81.5 1698.5,-81.5\"/>\n<text text-anchor=\"middle\" x=\"1708.5\" y=\"-95.8\" font-family=\"Times,serif\" font-size=\"14.00\"> </text>\n<polyline fill=\"none\" stroke=\"black\" points=\"1718.5,-81.5 1718.5,-117.5 \"/>\n<text text-anchor=\"middle\" x=\"1758.5\" y=\"-95.8\" font-family=\"Times,serif\" font-size=\"14.00\">data 1.0000</text>\n<polyline fill=\"none\" stroke=\"black\" points=\"1798.5,-81.5 1798.5,-117.5 \"/>\n<text text-anchor=\"middle\" x=\"1841.5\" y=\"-95.8\" font-family=\"Times,serif\" font-size=\"14.00\">grad &#45;0.1036</text>\n</g>\n<!-- 131924700581648&#45;&gt;131924700579920+ -->\n<g id=\"edge20\" class=\"edge\">\n<title>131924700581648&#45;&gt;131924700579920+</title>\n<path fill=\"none\" stroke=\"black\" d=\"M1884.6,-115.6C1894.15,-117.26 1903.37,-118.88 1911.68,-120.33\"/>\n<polygon fill=\"black\" stroke=\"black\" points=\"1911.2,-123.8 1921.65,-122.07 1912.4,-116.9 1911.2,-123.8\"/>\n</g>\n<!-- 131924700580160 -->\n<g id=\"node16\" class=\"node\">\n<title>131924700580160</title>\n<polygon fill=\"none\" stroke=\"black\" points=\"2,-165.5 2,-201.5 198,-201.5 198,-165.5 2,-165.5\"/>\n<text text-anchor=\"middle\" x=\"17\" y=\"-179.8\" font-family=\"Times,serif\" font-size=\"14.00\">x1</text>\n<polyline fill=\"none\" stroke=\"black\" points=\"32,-165.5 32,-201.5 \"/>\n<text text-anchor=\"middle\" x=\"72\" y=\"-179.8\" font-family=\"Times,serif\" font-size=\"14.00\">data 2.0000</text>\n<polyline fill=\"none\" stroke=\"black\" points=\"112,-165.5 112,-201.5 \"/>\n<text text-anchor=\"middle\" x=\"155\" y=\"-179.8\" font-family=\"Times,serif\" font-size=\"14.00\">grad &#45;1.5000</text>\n</g>\n<!-- 131924700580160&#45;&gt;131924700585008* -->\n<g id=\"edge17\" class=\"edge\">\n<title>131924700580160&#45;&gt;131924700585008*</title>\n<path fill=\"none\" stroke=\"black\" d=\"M172.53,-165.44C181.84,-162.67 191.2,-159.67 200,-156.5 210.53,-152.71 221.75,-147.9 231.72,-143.33\"/>\n<polygon fill=\"black\" stroke=\"black\" points=\"233.25,-146.48 240.82,-139.07 230.28,-140.14 233.25,-146.48\"/>\n</g>\n<!-- 131924700588368 -->\n<g id=\"node17\" class=\"node\">\n<title>131924700588368</title>\n<polygon fill=\"none\" stroke=\"black\" points=\"2759,-135.5 2759,-171.5 2944,-171.5 2944,-135.5 2759,-135.5\"/>\n<text text-anchor=\"middle\" x=\"2770.5\" y=\"-149.8\" font-family=\"Times,serif\" font-size=\"14.00\">o</text>\n<polyline fill=\"none\" stroke=\"black\" points=\"2782,-135.5 2782,-171.5 \"/>\n<text text-anchor=\"middle\" x=\"2822\" y=\"-149.8\" font-family=\"Times,serif\" font-size=\"14.00\">data 0.7071</text>\n<polyline fill=\"none\" stroke=\"black\" points=\"2862,-135.5 2862,-171.5 \"/>\n<text text-anchor=\"middle\" x=\"2903\" y=\"-149.8\" font-family=\"Times,serif\" font-size=\"14.00\">grad 1.0000</text>\n</g>\n<!-- 131924700588368*&#45;&gt;131924700588368 -->\n<g id=\"edge7\" class=\"edge\">\n<title>131924700588368*&#45;&gt;131924700588368</title>\n<path fill=\"none\" stroke=\"black\" d=\"M2723.04,-153.5C2730.58,-153.5 2739.3,-153.5 2748.57,-153.5\"/>\n<polygon fill=\"black\" stroke=\"black\" points=\"2748.81,-157 2758.81,-153.5 2748.81,-150 2748.81,-157\"/>\n</g>\n<!-- 131924700582224 -->\n<g id=\"node19\" class=\"node\">\n<title>131924700582224</title>\n<polygon fill=\"none\" stroke=\"black\" points=\"1390,-136.5 1390,-172.5 1572,-172.5 1572,-136.5 1390,-136.5\"/>\n<text text-anchor=\"middle\" x=\"1400\" y=\"-150.8\" font-family=\"Times,serif\" font-size=\"14.00\"> </text>\n<polyline fill=\"none\" stroke=\"black\" points=\"1410,-136.5 1410,-172.5 \"/>\n<text text-anchor=\"middle\" x=\"1450\" y=\"-150.8\" font-family=\"Times,serif\" font-size=\"14.00\">data 1.7627</text>\n<polyline fill=\"none\" stroke=\"black\" points=\"1490,-136.5 1490,-172.5 \"/>\n<text text-anchor=\"middle\" x=\"1531\" y=\"-150.8\" font-family=\"Times,serif\" font-size=\"14.00\">grad 0.2500</text>\n</g>\n<!-- 131924700582224&#45;&gt;131924700582080exp -->\n<g id=\"edge16\" class=\"edge\">\n<title>131924700582224&#45;&gt;131924700582080exp</title>\n<path fill=\"none\" stroke=\"black\" d=\"M1572.18,-154.5C1581.14,-154.5 1589.83,-154.5 1597.73,-154.5\"/>\n<polygon fill=\"black\" stroke=\"black\" points=\"1597.96,-158 1607.96,-154.5 1597.96,-151 1597.96,-158\"/>\n</g>\n<!-- 131924700582224* -->\n<g id=\"node20\" class=\"node\">\n<title>131924700582224*</title>\n<ellipse fill=\"none\" stroke=\"black\" cx=\"1327\" cy=\"-154.5\" rx=\"27\" ry=\"18\"/>\n<text text-anchor=\"middle\" x=\"1327\" y=\"-150.8\" font-family=\"Times,serif\" font-size=\"14.00\">*</text>\n</g>\n<!-- 131924700582224*&#45;&gt;131924700582224 -->\n<g id=\"edge8\" class=\"edge\">\n<title>131924700582224*&#45;&gt;131924700582224</title>\n<path fill=\"none\" stroke=\"black\" d=\"M1354.13,-154.5C1361.67,-154.5 1370.39,-154.5 1379.64,-154.5\"/>\n<polygon fill=\"black\" stroke=\"black\" points=\"1379.87,-158 1389.87,-154.5 1379.87,-151 1379.87,-158\"/>\n</g>\n<!-- 131924700580208 -->\n<g id=\"node21\" class=\"node\">\n<title>131924700580208</title>\n<polygon fill=\"none\" stroke=\"black\" points=\"2.5,-0.5 2.5,-36.5 197.5,-36.5 197.5,-0.5 2.5,-0.5\"/>\n<text text-anchor=\"middle\" x=\"19\" y=\"-14.8\" font-family=\"Times,serif\" font-size=\"14.00\">w2</text>\n<polyline fill=\"none\" stroke=\"black\" points=\"35.5,-0.5 35.5,-36.5 \"/>\n<text text-anchor=\"middle\" x=\"75.5\" y=\"-14.8\" font-family=\"Times,serif\" font-size=\"14.00\">data 1.0000</text>\n<polyline fill=\"none\" stroke=\"black\" points=\"115.5,-0.5 115.5,-36.5 \"/>\n<text text-anchor=\"middle\" x=\"156.5\" y=\"-14.8\" font-family=\"Times,serif\" font-size=\"14.00\">grad 0.0000</text>\n</g>\n<!-- 131924700580208&#45;&gt;131924700586496* -->\n<g id=\"edge23\" class=\"edge\">\n<title>131924700580208&#45;&gt;131924700586496*</title>\n<path fill=\"none\" stroke=\"black\" d=\"M172.53,-36.56C181.84,-39.33 191.2,-42.33 200,-45.5 210.53,-49.29 221.75,-54.1 231.72,-58.67\"/>\n<polygon fill=\"black\" stroke=\"black\" points=\"230.28,-61.86 240.82,-62.93 233.25,-55.52 230.28,-61.86\"/>\n</g>\n<!-- 131924700593552 -->\n<g id=\"node22\" class=\"node\">\n<title>131924700593552</title>\n<polygon fill=\"none\" stroke=\"black\" points=\"680,-82.5 680,-118.5 953,-118.5 953,-82.5 680,-82.5\"/>\n<text text-anchor=\"middle\" x=\"733\" y=\"-96.8\" font-family=\"Times,serif\" font-size=\"14.00\">x1*w1 + x2*w2</text>\n<polyline fill=\"none\" stroke=\"black\" points=\"786,-82.5 786,-118.5 \"/>\n<text text-anchor=\"middle\" x=\"828.5\" y=\"-96.8\" font-family=\"Times,serif\" font-size=\"14.00\">data &#45;6.0000</text>\n<polyline fill=\"none\" stroke=\"black\" points=\"871,-82.5 871,-118.5 \"/>\n<text text-anchor=\"middle\" x=\"912\" y=\"-96.8\" font-family=\"Times,serif\" font-size=\"14.00\">grad 0.5000</text>\n</g>\n<!-- 131924700593600+ -->\n<g id=\"node26\" class=\"node\">\n<title>131924700593600+</title>\n<ellipse fill=\"none\" stroke=\"black\" cx=\"1016\" cy=\"-127.5\" rx=\"27\" ry=\"18\"/>\n<text text-anchor=\"middle\" x=\"1016\" y=\"-123.8\" font-family=\"Times,serif\" font-size=\"14.00\">+</text>\n</g>\n<!-- 131924700593552&#45;&gt;131924700593600+ -->\n<g id=\"edge22\" class=\"edge\">\n<title>131924700593552&#45;&gt;131924700593600+</title>\n<path fill=\"none\" stroke=\"black\" d=\"M949.24,-118.51C960.12,-120 970.4,-121.4 979.45,-122.64\"/>\n<polygon fill=\"black\" stroke=\"black\" points=\"979.11,-126.13 989.49,-124.01 980.05,-119.19 979.11,-126.13\"/>\n</g>\n<!-- 131924700593552+&#45;&gt;131924700593552 -->\n<g id=\"edge9\" class=\"edge\">\n<title>131924700593552+&#45;&gt;131924700593552</title>\n<path fill=\"none\" stroke=\"black\" d=\"M644.23,-100.5C651.7,-100.5 660.41,-100.5 669.87,-100.5\"/>\n<polygon fill=\"black\" stroke=\"black\" points=\"669.98,-104 679.98,-100.5 669.98,-97 669.98,-104\"/>\n</g>\n<!-- 131924700583328 -->\n<g id=\"node24\" class=\"node\">\n<title>131924700583328</title>\n<polygon fill=\"none\" stroke=\"black\" points=\"1080.5,-164.5 1080.5,-200.5 1262.5,-200.5 1262.5,-164.5 1080.5,-164.5\"/>\n<text text-anchor=\"middle\" x=\"1090.5\" y=\"-178.8\" font-family=\"Times,serif\" font-size=\"14.00\"> </text>\n<polyline fill=\"none\" stroke=\"black\" points=\"1100.5,-164.5 1100.5,-200.5 \"/>\n<text text-anchor=\"middle\" x=\"1140.5\" y=\"-178.8\" font-family=\"Times,serif\" font-size=\"14.00\">data 2.0000</text>\n<polyline fill=\"none\" stroke=\"black\" points=\"1180.5,-164.5 1180.5,-200.5 \"/>\n<text text-anchor=\"middle\" x=\"1221.5\" y=\"-178.8\" font-family=\"Times,serif\" font-size=\"14.00\">grad 0.2203</text>\n</g>\n<!-- 131924700583328&#45;&gt;131924700582224* -->\n<g id=\"edge27\" class=\"edge\">\n<title>131924700583328&#45;&gt;131924700582224*</title>\n<path fill=\"none\" stroke=\"black\" d=\"M1262.68,-166.05C1272.61,-164.24 1282.23,-162.48 1290.84,-160.91\"/>\n<polygon fill=\"black\" stroke=\"black\" points=\"1291.6,-164.33 1300.81,-159.09 1290.35,-157.45 1291.6,-164.33\"/>\n</g>\n<!-- 131924700593600 -->\n<g id=\"node25\" class=\"node\">\n<title>131924700593600</title>\n<polygon fill=\"none\" stroke=\"black\" points=\"1079,-109.5 1079,-145.5 1264,-145.5 1264,-109.5 1079,-109.5\"/>\n<text text-anchor=\"middle\" x=\"1090.5\" y=\"-123.8\" font-family=\"Times,serif\" font-size=\"14.00\">n</text>\n<polyline fill=\"none\" stroke=\"black\" points=\"1102,-109.5 1102,-145.5 \"/>\n<text text-anchor=\"middle\" x=\"1142\" y=\"-123.8\" font-family=\"Times,serif\" font-size=\"14.00\">data 0.8814</text>\n<polyline fill=\"none\" stroke=\"black\" points=\"1182,-109.5 1182,-145.5 \"/>\n<text text-anchor=\"middle\" x=\"1223\" y=\"-123.8\" font-family=\"Times,serif\" font-size=\"14.00\">grad 0.5000</text>\n</g>\n<!-- 131924700593600&#45;&gt;131924700582224* -->\n<g id=\"edge28\" class=\"edge\">\n<title>131924700593600&#45;&gt;131924700582224*</title>\n<path fill=\"none\" stroke=\"black\" d=\"M1264.01,-143.6C1273.49,-145.26 1282.66,-146.88 1290.9,-148.33\"/>\n<polygon fill=\"black\" stroke=\"black\" points=\"1290.36,-151.78 1300.81,-150.07 1291.57,-144.89 1290.36,-151.78\"/>\n</g>\n<!-- 131924700593600+&#45;&gt;131924700593600 -->\n<g id=\"edge10\" class=\"edge\">\n<title>131924700593600+&#45;&gt;131924700593600</title>\n<path fill=\"none\" stroke=\"black\" d=\"M1043.04,-127.5C1050.58,-127.5 1059.3,-127.5 1068.57,-127.5\"/>\n<polygon fill=\"black\" stroke=\"black\" points=\"1068.81,-131 1078.81,-127.5 1068.81,-124 1068.81,-131\"/>\n</g>\n<!-- 131924700582368 -->\n<g id=\"node27\" class=\"node\">\n<title>131924700582368</title>\n<polygon fill=\"none\" stroke=\"black\" points=\"724,-137.5 724,-173.5 909,-173.5 909,-137.5 724,-137.5\"/>\n<text text-anchor=\"middle\" x=\"735.5\" y=\"-151.8\" font-family=\"Times,serif\" font-size=\"14.00\">b</text>\n<polyline fill=\"none\" stroke=\"black\" points=\"747,-137.5 747,-173.5 \"/>\n<text text-anchor=\"middle\" x=\"787\" y=\"-151.8\" font-family=\"Times,serif\" font-size=\"14.00\">data 6.8814</text>\n<polyline fill=\"none\" stroke=\"black\" points=\"827,-137.5 827,-173.5 \"/>\n<text text-anchor=\"middle\" x=\"868\" y=\"-151.8\" font-family=\"Times,serif\" font-size=\"14.00\">grad 0.5000</text>\n</g>\n<!-- 131924700582368&#45;&gt;131924700593600+ -->\n<g id=\"edge13\" class=\"edge\">\n<title>131924700582368&#45;&gt;131924700593600+</title>\n<path fill=\"none\" stroke=\"black\" d=\"M909.02,-142.52C934,-138.98 959.59,-135.36 979.37,-132.55\"/>\n<polygon fill=\"black\" stroke=\"black\" points=\"980.03,-135.99 989.43,-131.12 979.04,-129.06 980.03,-135.99\"/>\n</g>\n<!-- 131924700579824 -->\n<g id=\"node28\" class=\"node\">\n<title>131924700579824</title>\n<polygon fill=\"none\" stroke=\"black\" points=\"0,-110.5 0,-146.5 200,-146.5 200,-110.5 0,-110.5\"/>\n<text text-anchor=\"middle\" x=\"16.5\" y=\"-124.8\" font-family=\"Times,serif\" font-size=\"14.00\">w1</text>\n<polyline fill=\"none\" stroke=\"black\" points=\"33,-110.5 33,-146.5 \"/>\n<text text-anchor=\"middle\" x=\"75.5\" y=\"-124.8\" font-family=\"Times,serif\" font-size=\"14.00\">data &#45;3.0000</text>\n<polyline fill=\"none\" stroke=\"black\" points=\"118,-110.5 118,-146.5 \"/>\n<text text-anchor=\"middle\" x=\"159\" y=\"-124.8\" font-family=\"Times,serif\" font-size=\"14.00\">grad 1.0000</text>\n</g>\n<!-- 131924700579824&#45;&gt;131924700585008* -->\n<g id=\"edge19\" class=\"edge\">\n<title>131924700579824&#45;&gt;131924700585008*</title>\n<path fill=\"none\" stroke=\"black\" d=\"M200.21,-128.5C209.2,-128.5 217.86,-128.5 225.7,-128.5\"/>\n<polygon fill=\"black\" stroke=\"black\" points=\"225.85,-132 235.85,-128.5 225.85,-125 225.85,-132\"/>\n</g>\n</g>\n</svg>\n",
            "text/plain": [
              "<graphviz.graphs.Digraph at 0x77fc1cea5bd0>"
            ]
          },
          "metadata": {},
          "execution_count": 48
        }
      ]
    },
    {
      "cell_type": "markdown",
      "source": [
        "## Doing the same thing in PyTorch"
      ],
      "metadata": {
        "id": "clbIOqETzEwQ"
      }
    },
    {
      "cell_type": "code",
      "source": [
        "import torch\n",
        "\n",
        "x1 = torch.Tensor([2.0]).double()               ; x1.requires_grad = True\n",
        "x2 = torch.Tensor([0.0]).double()               ; x2.requires_grad = True\n",
        "w1 = torch.Tensor([-3.0]).double()              ; w1.requires_grad = True\n",
        "w2 = torch.Tensor([1.0]).double()               ; w2.requires_grad = True\n",
        "b = torch.Tensor([6.8813735870195432]).double() ; b.requires_grad = True\n",
        "n = x1*w1 + x2*w2 + b\n",
        "o = torch.tanh(n)"
      ],
      "metadata": {
        "id": "c3pw5nP9zKAD"
      },
      "execution_count": 49,
      "outputs": []
    },
    {
      "cell_type": "code",
      "source": [
        "print(o.data.item())\n",
        "o.backward()\n",
        "\n",
        "print('----')\n",
        "\n",
        "print('x2', x2.grad.item())\n",
        "print('w2', w2.grad.item())\n",
        "print('x1', x1.grad.item())\n",
        "print('w1', w1.grad.item())"
      ],
      "metadata": {
        "colab": {
          "base_uri": "https://localhost:8080/"
        },
        "id": "pGnAulrZz1GA",
        "outputId": "1cdf4991-ec11-43a4-cffd-67126d7c68be"
      },
      "execution_count": 50,
      "outputs": [
        {
          "output_type": "stream",
          "name": "stdout",
          "text": [
            "0.7071066904050358\n",
            "----\n",
            "x2 0.5000001283844369\n",
            "w2 0.0\n",
            "x1 -1.5000003851533106\n",
            "w1 1.0000002567688737\n"
          ]
        }
      ]
    },
    {
      "cell_type": "markdown",
      "source": [
        "## Building a Neural Network Library"
      ],
      "metadata": {
        "id": "4kHPDTg712Yv"
      }
    },
    {
      "cell_type": "code",
      "source": [
        "class Neuron:\n",
        "\n",
        "    def __init__(self, nin):\n",
        "      self.w = [Value(random.uniform(-1, 1)) for _ in range(nin)]\n",
        "      self.b = Value(random.uniform(-1, 1))\n",
        "\n",
        "\n",
        "    def __call__(self, x):\n",
        "      # w * x + b\n",
        "      act = sum((wi*xi for wi, xi in zip(self.w, x)), self.b)\n",
        "      out = act.tanh()\n",
        "      return out\n",
        "\n",
        "    def parameters(self):\n",
        "      return self.w + [self.b]\n",
        "\n",
        "class Layer:\n",
        "\n",
        "    def __init__(self, nin, nout):\n",
        "      self.neurons = [Neuron(nin) for _ in range(nout)]\n",
        "\n",
        "    def __call__(self, x):\n",
        "      outs = [n(x) for n in self.neurons]\n",
        "      return outs[0] if len(outs) == 1 else outs\n",
        "\n",
        "    def parameters(self):\n",
        "      return [p for neuron in self.neurons for p in neuron.parameters()]\n",
        "\n",
        "class MLP:\n",
        "\n",
        "  def __init__(self, nin, nouts):\n",
        "    sz = [nin] + nouts\n",
        "    self.layers = [Layer(sz[i], sz[i+1]) for i in range(len(nouts))]\n",
        "\n",
        "  def __call__(self, x):\n",
        "    for layer in self.layers:\n",
        "      x = layer(x)\n",
        "    return x\n",
        "\n",
        "  def parameters(self):\n",
        "    return [p for layer in self.layers for p in layer.parameters()]"
      ],
      "metadata": {
        "id": "ZebJhNsB1eLa",
        "colab": {
          "base_uri": "https://localhost:8080/"
        },
        "outputId": "866920bf-b512-486e-f3b5-1329572c3e77"
      },
      "execution_count": 104,
      "outputs": [
        {
          "output_type": "execute_result",
          "data": {
            "text/plain": [
              "Value(data=0.4217135831158677)"
            ]
          },
          "metadata": {},
          "execution_count": 104
        }
      ]
    },
    {
      "cell_type": "code",
      "source": [
        "x = [2.0, 3.0, -1.0]\n",
        "n = MLP(3, [4, 4, 1])\n",
        "n(x)"
      ],
      "metadata": {
        "colab": {
          "base_uri": "https://localhost:8080/"
        },
        "id": "5jgkUO3bHLiG",
        "outputId": "5b27fc42-b10e-4583-90a1-adffebf1d9f4"
      },
      "execution_count": 266,
      "outputs": [
        {
          "output_type": "execute_result",
          "data": {
            "text/plain": [
              "Value(data=0.6454624775446445)"
            ]
          },
          "metadata": {},
          "execution_count": 266
        }
      ]
    },
    {
      "cell_type": "code",
      "source": [
        "xs = [\n",
        "    [2.0, 3.0, -1.0],\n",
        "    [3.0, -1.0, 0.5],\n",
        "    [0.5, 1.0, 1.0],\n",
        "    [1.0, 1.0, -1.0]\n",
        "]\n",
        "\n",
        "ys = [1.0, -1.0, -1.0, 1.0]"
      ],
      "metadata": {
        "id": "owfKqsX3Edf7"
      },
      "execution_count": 267,
      "outputs": []
    },
    {
      "cell_type": "code",
      "source": [
        "for k in range(20):\n",
        "\n",
        "  # Forward pass\n",
        "  ypred = [n(x) for x in xs]\n",
        "  loss = sum((y_out - y_true)**2 for y_true, y_out in zip(ys, ypred))\n",
        "\n",
        "  # Zero grad\n",
        "  for p in n.parameters():\n",
        "    p.grad = 0.0\n",
        "\n",
        "  # Backward pass\n",
        "  loss.backward()\n",
        "\n",
        "  # update\n",
        "  for p in n.parameters():\n",
        "    p.data += -0.5 * p.grad\n",
        "\n",
        "  print(k, loss.data)"
      ],
      "metadata": {
        "colab": {
          "base_uri": "https://localhost:8080/"
        },
        "id": "eQoeBRZGKxNB",
        "outputId": "b589eaf5-8ef1-483c-fd18-bcf5e4757713"
      },
      "execution_count": 296,
      "outputs": [
        {
          "output_type": "stream",
          "name": "stdout",
          "text": [
            "0 5.5626390657209204e-05\n",
            "1 5.5487777226524885e-05\n",
            "2 5.534995358452886e-05\n",
            "3 5.521291261442071e-05\n",
            "4 5.507664728806236e-05\n",
            "5 5.494115066456601e-05\n",
            "6 5.480641588889427e-05\n",
            "7 5.467243619050731e-05\n",
            "8 5.4539204882028986e-05\n",
            "9 5.440671535792953e-05\n",
            "10 5.427496109324776e-05\n",
            "11 5.414393564232976e-05\n",
            "12 5.401363263759678e-05\n",
            "13 5.388404578832105e-05\n",
            "14 5.375516887945843e-05\n",
            "15 5.362699577046063e-05\n",
            "16 5.349952039413983e-05\n",
            "17 5.337273675554764e-05\n",
            "18 5.324663893086954e-05\n",
            "19 5.31212210663463e-05\n"
          ]
        }
      ]
    },
    {
      "cell_type": "code",
      "source": [
        "ypred"
      ],
      "metadata": {
        "colab": {
          "base_uri": "https://localhost:8080/"
        },
        "id": "7FaYDvu5LFls",
        "outputId": "2f34565e-49a5-4f4c-d7a8-2042a5f4a6cf"
      },
      "execution_count": 297,
      "outputs": [
        {
          "output_type": "execute_result",
          "data": {
            "text/plain": [
              "[Value(data=0.9990339740204404),\n",
              " Value(data=-0.9959649410239104),\n",
              " Value(data=-0.9940886378940424),\n",
              " Value(data=0.9990191269272275)]"
            ]
          },
          "metadata": {},
          "execution_count": 297
        }
      ]
    },
    {
      "cell_type": "code",
      "source": [
        "len(n.parameters())"
      ],
      "metadata": {
        "colab": {
          "base_uri": "https://localhost:8080/"
        },
        "id": "vpCqC7IwMsQy",
        "outputId": "4e48553b-ead6-4ddf-fdd4-b1c17b71f3af"
      },
      "execution_count": 299,
      "outputs": [
        {
          "output_type": "execute_result",
          "data": {
            "text/plain": [
              "41"
            ]
          },
          "metadata": {},
          "execution_count": 299
        }
      ]
    }
  ]
}